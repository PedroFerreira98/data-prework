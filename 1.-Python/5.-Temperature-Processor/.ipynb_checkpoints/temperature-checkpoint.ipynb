{
 "cells": [
  {
   "cell_type": "markdown",
   "metadata": {},
   "source": [
    "<img src=\"https://bit.ly/2VnXWr2\" width=\"100\" align=\"left\">"
   ]
  },
  {
   "cell_type": "markdown",
   "metadata": {},
   "source": [
    "# Temperature Sensor\n",
    "\n",
    "There is a temperature sensor in the processor of your company's server. The company wants to analyze the data provided by the sensor to decide if they should change the cooling system for a better one. As changing the cooling system is expensive and you are an excellent data analyst, you can't make a decision without basis.\n",
    "\n",
    "## Tools\n",
    "You don't necessarily need to use all the tools. Maybe you opt to use some of them or completely different ones, they are given to help you shape the exercise. Programming exercises can be solved in many different ways.\n",
    "1. Data structures: **lists**\n",
    "2. Loops: **list comprehension**\n",
    "3. Functions: **min, max, print, len**\n",
    "4. Conditional statements: **if-elif-else**\n",
    "\n",
    "## Tasks\n",
    "The temperatures measured throughout the 24 hours of a day are:"
   ]
  },
  {
   "cell_type": "code",
   "execution_count": 40,
   "metadata": {},
   "outputs": [],
   "source": [
    "temperatures_C = [33, 66, 65, 0, 59, 60, 62, 64, 70, 76, 80, 81, 80, 83, 90, 79, 61, 53, 50, 49, 53, 48, 45, 39]"
   ]
  },
  {
   "cell_type": "markdown",
   "metadata": {},
   "source": [
    "The first element of the list is the temperature at 12am, the second element is the temperature at 1am, and so on. \n",
    "\n",
    "The company has decided that if one of the following events occurs, then the cooling system needs to be replaced for a new one to avoid damaging the processor.\n",
    "* More than 4 temperatures are greater than or equal to 70ºC.\n",
    "* Any temperature is above 80ºC.\n",
    "* The average temperature exceeds 65ºC.\n",
    "\n",
    "Follow the steps so that you can make the decision.\n",
    "\n",
    "#### 1. Find the minimum temperature of the day and store it in a variable."
   ]
  },
  {
   "cell_type": "code",
   "execution_count": 3,
   "metadata": {},
   "outputs": [
    {
     "name": "stdout",
     "output_type": "stream",
     "text": [
      "Min temperature was: 0\n"
     ]
    }
   ],
   "source": [
    "min1 = min(temperatures_C)\n",
    "\n",
    "print(\"Min temperature was:\",min1)"
   ]
  },
  {
   "cell_type": "markdown",
   "metadata": {},
   "source": [
    "#### 2. Find the maximum temperature of the day and store it in a variable."
   ]
  },
  {
   "cell_type": "code",
   "execution_count": 4,
   "metadata": {},
   "outputs": [
    {
     "name": "stdout",
     "output_type": "stream",
     "text": [
      "Max temperature was: 90\n"
     ]
    }
   ],
   "source": [
    "max1 = max(temperatures_C)\n",
    "\n",
    "print(\"Max temperature was:\",max1)"
   ]
  },
  {
   "cell_type": "markdown",
   "metadata": {},
   "source": [
    "#### 3. Create a list with the temperatures that are greater than or equal to 70ºC. Store it in a variable."
   ]
  },
  {
   "cell_type": "code",
   "execution_count": 5,
   "metadata": {},
   "outputs": [
    {
     "name": "stdout",
     "output_type": "stream",
     "text": [
      "[70, 76, 80, 81, 80, 83, 90, 79]\n"
     ]
    }
   ],
   "source": [
    "hot=[]\n",
    "\n",
    "for x in temperatures_C:\n",
    "    if x >=70:\n",
    "        hot.append(x)\n",
    "        \n",
    "print(hot)"
   ]
  },
  {
   "cell_type": "markdown",
   "metadata": {},
   "source": [
    "#### 4. Find the average temperature of the day and store it in a variable."
   ]
  },
  {
   "cell_type": "code",
   "execution_count": 41,
   "metadata": {},
   "outputs": [
    {
     "name": "stdout",
     "output_type": "stream",
     "text": [
      "60.25\n"
     ]
    }
   ],
   "source": [
    "averageOriginal=0\n",
    "total=0\n",
    "\n",
    "for x in temperatures_C:\n",
    "    total+=x\n",
    "    \n",
    "average=total/len(temperatures_C)\n",
    "\n",
    "print(average)"
   ]
  },
  {
   "cell_type": "markdown",
   "metadata": {},
   "source": [
    "#### 5. Imagine that there was a sensor failure at 3am and the data for that specific hour was not recorded. How would you estimate the missing value? Replace the current value of the list at 3am for an estimation. "
   ]
  },
  {
   "cell_type": "code",
   "execution_count": 35,
   "metadata": {},
   "outputs": [
    {
     "name": "stdout",
     "output_type": "stream",
     "text": [
      "62.4\n",
      "[33, 66, 65, 0, 59, 60, 62, 64, 70, 76, 80, 81, 80, 83, 90, 79, 61, 53, 50, 49, 53, 48, 45, 39]\n",
      "[33, 66, 65, 62.4, 59, 60, 62, 64, 70, 76, 80, 81, 80, 83, 90, 79, 61, 53, 50, 49, 53, 48, 45, 39]\n"
     ]
    }
   ],
   "source": [
    "#I'm only considering the closest temperatures around the missing value, because those are the ones that will give us the most accurate result.\n",
    "\n",
    "estimation=0\n",
    "x=1\n",
    "totale=0\n",
    "\n",
    "while x<7:\n",
    "    if x!=3:\n",
    "        totale+=temperatures_C[x]\n",
    "    x+=1\n",
    "    \n",
    "estimation=totale/5\n",
    "print(estimation)\n",
    "\n",
    "print(temperatures_C)\n",
    "\n",
    "temperatures_C[3]=estimation\n",
    "\n",
    "print(temperatures_C)\n"
   ]
  },
  {
   "cell_type": "markdown",
   "metadata": {},
   "source": [
    "#### 6. Bonus: the maintenance staff is from the United States and does not understand the international metric system. Help them by converting the temperatures from Celsius to Fahrenheit.\n",
    "To know more about temperature conversion check this [link](https://en.wikipedia.org/wiki/Conversion_of_units_of_temperature).\n",
    "\n",
    "**Formula**: \n",
    "\n",
    "$F = 1.8 * C + 32$"
   ]
  },
  {
   "cell_type": "code",
   "execution_count": 8,
   "metadata": {},
   "outputs": [
    {
     "name": "stdout",
     "output_type": "stream",
     "text": [
      "[33, 66, 65, 62.4, 59, 60, 62, 64, 70, 76, 80, 81, 80, 83, 90, 79, 61, 53, 50, 49, 53, 48, 45, 39]\n",
      "[91.4, 150.8, 149.0, 144.32, 138.2, 140.0, 143.60000000000002, 147.2, 158.0, 168.8, 176.0, 177.8, 176.0, 181.4, 194.0, 174.20000000000002, 141.8, 127.4, 122.0, 120.2, 127.4, 118.4, 113.0, 102.2]\n"
     ]
    }
   ],
   "source": [
    "x=0\n",
    "\n",
    "print(temperatures_C)\n",
    "while x<len(temperatures_C):\n",
    "    temperatures_C[x]=1.8*temperatures_C[x]+32\n",
    "    x+=1\n",
    "    \n",
    "print(temperatures_C)"
   ]
  },
  {
   "cell_type": "markdown",
   "metadata": {},
   "source": [
    "#### 7. Make a decision!\n",
    "Now it's time to make a decision taking into account what you have seen until now. \n",
    "\n",
    "Remember that if one of the following events occurs, then the cooling system needs to be replaced for a new one to avoid damaging the processor.\n",
    "* More than 4 temperatures are greater than or equal to 70ºC.\n",
    "* Any temperature is above 80ºC.\n",
    "* The average temperature exceeds 65ºC.\n",
    "\n",
    "#### To make your decision, check if any of the three conditions above is met. You might need to use some of the variables you created in steps 1 to 6. Print a message to show if the cooling system needs to be changed or not."
   ]
  },
  {
   "cell_type": "code",
   "execution_count": 14,
   "metadata": {},
   "outputs": [
    {
     "name": "stdout",
     "output_type": "stream",
     "text": [
      "Run immediately to the store to change your cooling system otherwhise there will be a potential barbecue due to the heat! \n"
     ]
    }
   ],
   "source": [
    "count=0\n",
    "\n",
    "for x in temperatures_C:\n",
    "    if x >=70:\n",
    "        count+=1\n",
    "    \n",
    "    \n",
    "#Flag False means that there is no temperature above 80C, if True means that there is\n",
    "flag=False\n",
    "\n",
    "if max1 > 80:\n",
    "    flag=True\n",
    "    \n",
    "flag1=False\n",
    "\n",
    "if average>65:\n",
    "    flag1=True\n",
    "    \n",
    "\n",
    "    \n",
    "if ((count>4) | (flag==True) | (flag1==True)):\n",
    "    print(\"Run immediately to the store to change your cooling system otherwhise there will be a potential barbecue due to the heat! \")\n",
    "else:\n",
    "    print(\"You are all good!\")"
   ]
  },
  {
   "cell_type": "markdown",
   "metadata": {},
   "source": [
    "## Bonus\n",
    "\n",
    "The company has decided that the decision you made is not valid. They want you to analyze the data again but this time, the conditions that need to be met in order to change the cooling system are different.\n",
    "\n",
    "This time, if one of the following events occurs, then the cooling system needs to be replaced:\n",
    "* The temperature is greater than 70ºC during more than 4 consecutive hours.\n",
    "* Any temperature is above 80ºC.\n",
    "* The average temperature exceeds 65ºC.\n",
    "\n",
    "Follow the steps so that you can make the decision.\n",
    "\n",
    "#### 1. Create a list with the hours where the temperature is greater than 70ºC. Store it in a variable."
   ]
  },
  {
   "cell_type": "code",
   "execution_count": 17,
   "metadata": {},
   "outputs": [
    {
     "name": "stdout",
     "output_type": "stream",
     "text": [
      "[9, 10, 11, 12, 13, 14, 15]\n"
     ]
    }
   ],
   "source": [
    "x=0\n",
    "ok=[]\n",
    "\n",
    "while x < len(temperatures_C):\n",
    "    if temperatures_C[x]>70:\n",
    "        ok.append(x)\n",
    "    x+=1\n",
    "    \n",
    "print(ok)"
   ]
  },
  {
   "cell_type": "markdown",
   "metadata": {},
   "source": [
    "#### 2. Check if the list you created in step 1 has more than 4 consecutive hours. "
   ]
  },
  {
   "cell_type": "code",
   "execution_count": 30,
   "metadata": {},
   "outputs": [
    {
     "name": "stdout",
     "output_type": "stream",
     "text": [
      "IT has more than 4 consecutive hours\n"
     ]
    }
   ],
   "source": [
    "a=0\n",
    "b=0\n",
    "\n",
    "x=0\n",
    "consecutive4=False\n",
    "\n",
    "while x < len(ok):\n",
    "    if x >4:\n",
    "        print(\"IT has more than 4 consecutive hours\")\n",
    "        consecutive4=True\n",
    "        break\n",
    "    a=ok[x]\n",
    "    x+=1\n",
    "    if (a+1)==(ok[x]):\n",
    "        continue\n",
    "        \n",
    "\n",
    "        \n"
   ]
  },
  {
   "cell_type": "markdown",
   "metadata": {},
   "source": [
    "#### 3. Make the decision!\n",
    "To make your decision, check if any of the three conditions is met. Print a message to show if the cooling system needs to be changed or not."
   ]
  },
  {
   "cell_type": "code",
   "execution_count": 28,
   "metadata": {},
   "outputs": [
    {
     "name": "stdout",
     "output_type": "stream",
     "text": [
      "Run immediately to the store to change your cooling system otherwhise there will be a potential barbecue due to the heat! \n"
     ]
    }
   ],
   "source": [
    "flag=False\n",
    "\n",
    "if max1 > 80:\n",
    "    flag=True\n",
    "    \n",
    "flag1=False\n",
    "\n",
    "if average>65:\n",
    "    flag1=True\n",
    "    \n",
    "if ((consecutive4==True) | (flag==True) | (flag1==True)):\n",
    "    print(\"Run immediately to the store to change your cooling system otherwhise there will be a potential barbecue due to the heat! \")\n",
    "else:\n",
    "    print(\"You are all good!\")"
   ]
  },
  {
   "cell_type": "markdown",
   "metadata": {},
   "source": [
    "#### 4. Find the average value of the temperature lists (ºC and ºF). What is the relation between both average values?"
   ]
  },
  {
   "cell_type": "code",
   "execution_count": 42,
   "metadata": {},
   "outputs": [
    {
     "name": "stdout",
     "output_type": "stream",
     "text": [
      "60.25\n",
      "140.45\n"
     ]
    }
   ],
   "source": [
    "averageC=0\n",
    "total=0\n",
    "\n",
    "for x in temperatures_C:\n",
    "    total+=x\n",
    "    \n",
    "averageC=total/len(temperatures_C)\n",
    "\n",
    "print(averageC)\n",
    "\n",
    "x=0\n",
    "\n",
    "temperatures_F=[]\n",
    "\n",
    "while x<len(temperatures_C):\n",
    "    temperatures_F.append(1.8*temperatures_C[x]+32)\n",
    "    x+=1\n",
    "    \n",
    "\n",
    "total_F=0\n",
    "averageF=0\n",
    "\n",
    "for x in temperatures_F:\n",
    "    total_F+=x\n",
    "    \n",
    "averageF=total_F/len(temperatures_F)\n",
    "\n",
    "print(averageF)\n",
    "\n",
    "#Average in F is exaclty 1.8*62.85+32"
   ]
  },
  {
   "cell_type": "markdown",
   "metadata": {},
   "source": [
    "#### 5. Find the standard deviation of the temperature lists (ºC and ºF). What is the relation between both standard deviations?"
   ]
  },
  {
   "cell_type": "code",
   "execution_count": 45,
   "metadata": {},
   "outputs": [
    {
     "name": "stdout",
     "output_type": "stream",
     "text": [
      "Standard deviation for C is 19.285681216902866\n",
      "Standard deviation for F is 34.71422619042516\n"
     ]
    }
   ],
   "source": [
    "import math\n",
    "\n",
    "\n",
    "listC=[]\n",
    "C=0\n",
    "\n",
    "for x in temperatures_C:\n",
    "    listC.append((x-average)**2)\n",
    "\n",
    "total_CC=0\n",
    "for y in listC:\n",
    "    total_CC+=y\n",
    "    \n",
    "C=math.sqrt(total_CC/len(temperatures_C))\n",
    "\n",
    "\n",
    "print(\"Standard deviation for C is\",C)\n",
    "\n",
    "listF=[]\n",
    "F=0\n",
    "\n",
    "for x in temperatures_F:\n",
    "    listF.append((x-averageF)**2)\n",
    "\n",
    "total_FF=0\n",
    "for y in listF:\n",
    "    total_FF+=y\n",
    "    \n",
    "F=math.sqrt(total_FF/len(temperatures_F))\n",
    "\n",
    "\n",
    "print(\"Standard deviation for F is\",F)\n",
    "\n",
    "#Standard deviation for F is 1.8*19.2856(...) which is standard deviation for C"
   ]
  },
  {
   "cell_type": "code",
   "execution_count": null,
   "metadata": {},
   "outputs": [],
   "source": []
  }
 ],
 "metadata": {
  "kernelspec": {
   "display_name": "Python 3",
   "language": "python",
   "name": "python3"
  },
  "language_info": {
   "codemirror_mode": {
    "name": "ipython",
    "version": 3
   },
   "file_extension": ".py",
   "mimetype": "text/x-python",
   "name": "python",
   "nbconvert_exporter": "python",
   "pygments_lexer": "ipython3",
   "version": "3.8.3"
  }
 },
 "nbformat": 4,
 "nbformat_minor": 2
}
